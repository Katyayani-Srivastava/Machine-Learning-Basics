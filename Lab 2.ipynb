{
  "nbformat": 4,
  "nbformat_minor": 0,
  "metadata": {
    "colab": {
      "provenance": []
    },
    "kernelspec": {
      "name": "python3",
      "display_name": "Python 3"
    },
    "language_info": {
      "name": "python"
    }
  },
  "cells": [
    {
      "cell_type": "code",
      "execution_count": 6,
      "metadata": {
        "colab": {
          "base_uri": "https://localhost:8080/"
        },
        "id": "DVYvw3O-HBc1",
        "outputId": "b0612a79-1467-461b-968d-b983ba12cfea"
      },
      "outputs": [
        {
          "output_type": "stream",
          "name": "stdout",
          "text": [
            "Mean Square Error: 14.5\n",
            "Root Mean Square Error: 3.8078865529319543\n",
            "R-squared: 0.884\n"
          ]
        }
      ],
      "source": [
        "import numpy as np\n",
        "actual=[90,80,60,70]\n",
        "predicted=[85,82,65,68]\n",
        "mse=np.mean([(a-p)**2 for a,p in zip(actual,predicted)])\n",
        "rmse=np.sqrt(mse)\n",
        "print(f\"Mean Square Error: {mse}\")\n",
        "print(f\"Root Mean Square Error: {rmse}\")\n",
        "sst = np.sum([(a - np.mean(actual))**2 for a in actual])\n",
        "ssr = np.sum([(a - p)**2 for a, p in zip(actual, predicted)])\n",
        "r_squared = 1 - (ssr / sst)\n",
        "print(f\"R-squared: {r_squared}\")"
      ]
    }
  ]
}